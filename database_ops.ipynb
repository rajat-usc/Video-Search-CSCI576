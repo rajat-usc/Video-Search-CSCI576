{
 "cells": [
  {
   "cell_type": "code",
   "execution_count": 12,
   "metadata": {},
   "outputs": [
    {
     "name": "stdout",
     "output_type": "stream",
     "text": [
      "video_folder='d:\\\\Final Project\\\\Videos'\n",
      "scene_folder='d:\\\\Final Project\\\\Scenes'\n",
      "queries_folder='d:\\\\Final Project\\\\Queries'\n",
      "audios_folder='d:\\\\Final Project\\\\Audios'\n",
      "db_folder='d:\\\\Final Project\\\\Database'\n",
      "\n",
      "imports complete\n"
     ]
    }
   ],
   "source": [
    "import os\n",
    "import acoustid\n",
    "from time import perf_counter\n",
    "from scenedetect import detect, AdaptiveDetector, split_video_ffmpeg\n",
    "import subprocess\n",
    "import chromaprint\n",
    "import hashlib\n",
    "import sqlite3\n",
    "import constants\n",
    "\n",
    "base = os.getcwd()\n",
    "video_folder = os.path.join(base, \"Videos\")\n",
    "scene_folder = os.path.join(base, \"Scenes\")\n",
    "queries_folder = os.path.join(base, \"Queries\")\n",
    "audios_folder = os.path.join(base, \"Audios\")\n",
    "db_folder = os.path.join(base, \"Database\")\n",
    "\n",
    "print(f'{video_folder=}\\n{scene_folder=}\\n{queries_folder=}\\n{audios_folder=}\\n{db_folder=}\\n')\n",
    "\n",
    "print('imports complete')"
   ]
  },
  {
   "cell_type": "markdown",
   "metadata": {},
   "source": [
    "### DB Connection"
   ]
  },
  {
   "cell_type": "code",
   "execution_count": 9,
   "metadata": {},
   "outputs": [],
   "source": [
    "def create_connection(db_file):\n",
    "    \"\"\" create a database connection to a SQLite database \"\"\"\n",
    "    conn = None\n",
    "    try:\n",
    "        conn = sqlite3.connect(db_file)\n",
    "    except sqlite3.Error as e:\n",
    "        print(e)\n",
    "    \n",
    "    return conn"
   ]
  },
  {
   "cell_type": "code",
   "execution_count": 10,
   "metadata": {},
   "outputs": [
    {
     "name": "stdout",
     "output_type": "stream",
     "text": [
      " connection established : d:\\Final Project\\Database\\VideoSearch.db\n"
     ]
    }
   ],
   "source": [
    "db_path = os.path.join(db_folder, \"VideoSearch.db\")\n",
    "conn = create_connection(db_path)\n",
    "\n",
    "if conn is not None:\n",
    "    print(f' connection established : {db_path}')\n",
    "else:\n",
    "    print(' connection failed ')"
   ]
  },
  {
   "cell_type": "markdown",
   "metadata": {},
   "source": [
    "### SQL Commands"
   ]
  },
  {
   "cell_type": "code",
   "execution_count": 14,
   "metadata": {},
   "outputs": [
    {
     "data": {
      "text/plain": [
       "<sqlite3.Cursor at 0x278ff87ab40>"
      ]
     },
     "execution_count": 14,
     "metadata": {},
     "output_type": "execute_result"
    }
   ],
   "source": [
    "cursor = conn.cursor()\n",
    "cursor.execute(constants.sql_create_tasks_table)"
   ]
  },
  {
   "cell_type": "code",
   "execution_count": null,
   "metadata": {},
   "outputs": [],
   "source": []
  }
 ],
 "metadata": {
  "kernelspec": {
   "display_name": "mm_final",
   "language": "python",
   "name": "python3"
  },
  "language_info": {
   "codemirror_mode": {
    "name": "ipython",
    "version": 3
   },
   "file_extension": ".py",
   "mimetype": "text/x-python",
   "name": "python",
   "nbconvert_exporter": "python",
   "pygments_lexer": "ipython3",
   "version": "3.12.0"
  }
 },
 "nbformat": 4,
 "nbformat_minor": 2
}
