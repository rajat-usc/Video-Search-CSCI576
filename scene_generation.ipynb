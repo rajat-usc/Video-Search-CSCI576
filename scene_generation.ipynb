{
 "cells": [
  {
   "cell_type": "markdown",
   "metadata": {},
   "source": [
    "### Setup"
   ]
  },
  {
   "cell_type": "code",
   "execution_count": 1,
   "metadata": {},
   "outputs": [
    {
     "name": "stdout",
     "output_type": "stream",
     "text": [
      "video_folder='c:\\\\Users\\\\rajat\\\\OneDrive\\\\Desktop\\\\USC\\\\CSCI576_Multimedia\\\\Final Project\\\\Videos'\n",
      "scene_folder='c:\\\\Users\\\\rajat\\\\OneDrive\\\\Desktop\\\\USC\\\\CSCI576_Multimedia\\\\Final Project\\\\Scenes'\n",
      "queries_folder='c:\\\\Users\\\\rajat\\\\OneDrive\\\\Desktop\\\\USC\\\\CSCI576_Multimedia\\\\Final Project\\\\Queries'\n",
      "audios_folder='c:\\\\Users\\\\rajat\\\\OneDrive\\\\Desktop\\\\USC\\\\CSCI576_Multimedia\\\\Final Project\\\\Audios'\n",
      "\n",
      "imports complete\n"
     ]
    }
   ],
   "source": [
    "import os\n",
    "import acoustid\n",
    "from time import perf_counter\n",
    "from scenedetect import detect, AdaptiveDetector, split_video_ffmpeg\n",
    "\n",
    "\n",
    "base = os.getcwd()\n",
    "video_folder = os.path.join(base, \"Videos\")\n",
    "scene_folder = os.path.join(base, \"Scenes\")\n",
    "queries_folder = os.path.join(base, \"Queries\")\n",
    "audios_folder = os.path.join(base, \"Audios\")\n",
    "\n",
    "print(f'{video_folder=}\\n{scene_folder=}\\n{queries_folder=}\\n{audios_folder=}\\n')\n",
    "\n",
    "print('imports complete')"
   ]
  },
  {
   "cell_type": "markdown",
   "metadata": {},
   "source": [
    "### Scene Generation"
   ]
  },
  {
   "cell_type": "code",
   "execution_count": 3,
   "metadata": {},
   "outputs": [
    {
     "ename": "RuntimeError",
     "evalue": "why run this again?",
     "output_type": "error",
     "traceback": [
      "\u001b[1;31m---------------------------------------------------------------------------\u001b[0m",
      "\u001b[1;31mRuntimeError\u001b[0m                              Traceback (most recent call last)",
      "\u001b[1;32mc:\\Users\\rajat\\OneDrive\\Desktop\\USC\\CSCI576_Multimedia\\Final Project\\testing.ipynb Cell 4\u001b[0m line \u001b[0;36m1\n\u001b[1;32m----> <a href='vscode-notebook-cell:/c%3A/Users/rajat/OneDrive/Desktop/USC/CSCI576_Multimedia/Final%20Project/testing.ipynb#W3sZmlsZQ%3D%3D?line=0'>1</a>\u001b[0m \u001b[39mraise\u001b[39;00m \u001b[39mRuntimeError\u001b[39;00m(\u001b[39m'\u001b[39m\u001b[39mwhy run this again?\u001b[39m\u001b[39m'\u001b[39m)\n\u001b[0;32m      <a href='vscode-notebook-cell:/c%3A/Users/rajat/OneDrive/Desktop/USC/CSCI576_Multimedia/Final%20Project/testing.ipynb#W3sZmlsZQ%3D%3D?line=1'>2</a>\u001b[0m video_paths \u001b[39m=\u001b[39m []\n\u001b[0;32m      <a href='vscode-notebook-cell:/c%3A/Users/rajat/OneDrive/Desktop/USC/CSCI576_Multimedia/Final%20Project/testing.ipynb#W3sZmlsZQ%3D%3D?line=3'>4</a>\u001b[0m \u001b[39mfor\u001b[39;00m base, _, files \u001b[39min\u001b[39;00m os\u001b[39m.\u001b[39mwalk(video_folder):\n",
      "\u001b[1;31mRuntimeError\u001b[0m: why run this again?"
     ]
    }
   ],
   "source": [
    "\n",
    "raise RuntimeError('why run this again?')\n",
    "video_paths = []\n",
    "\n",
    "for base, _, files in os.walk(video_folder):\n",
    "    for f in files:\n",
    "        video_paths.append(os.path.join(base, f))\n",
    "\n",
    "\n",
    "print(f' videos to be processed : {len(video_paths)}\\n')\n",
    "\n",
    "main_start = perf_counter()\n",
    "for video_path in video_paths:\n",
    "    start = perf_counter()\n",
    "    video = os.path.basename(video_path)\n",
    "    scene_path = os.path.join(scene_folder, video.split('.')[0])\n",
    "    scene_list = detect(video_path, AdaptiveDetector())\n",
    "    print(f' scenes : {len(scene_list)}')\n",
    "    split_video_ffmpeg(video_path, scene_list,'$VIDEO_NAME - Scene $SCENE_NUMBER.mp4')\n",
    "    end = perf_counter()\n",
    "    print(f' {video} : {(end-start):.2f}\\n')\n",
    "main_end = perf_counter()\n",
    "print(f' total processing time : {main_end-main_start:.2f}')\n",
    "\n",
    "# took 30 minutes but it worked\n",
    "    "
   ]
  }
 ],
 "metadata": {
  "kernelspec": {
   "display_name": "Python 3",
   "language": "python",
   "name": "python3"
  },
  "language_info": {
   "codemirror_mode": {
    "name": "ipython",
    "version": 3
   },
   "file_extension": ".py",
   "mimetype": "text/x-python",
   "name": "python",
   "nbconvert_exporter": "python",
   "pygments_lexer": "ipython3",
   "version": "3.12.0"
  }
 },
 "nbformat": 4,
 "nbformat_minor": 2
}
