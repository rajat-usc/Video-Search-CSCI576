{
 "cells": [
  {
   "cell_type": "markdown",
   "metadata": {},
   "source": [
    "### Setup"
   ]
  },
  {
   "cell_type": "code",
   "execution_count": 1,
   "metadata": {},
   "outputs": [
    {
     "name": "stdout",
     "output_type": "stream",
     "text": [
      "video_folder='d:\\\\Final Project\\\\Video-Search-CSCI576\\\\Videos'\n",
      "scene_folder='d:\\\\Final Project\\\\Video-Search-CSCI576\\\\Scenes'\n",
      "queries_folder='d:\\\\Final Project\\\\Video-Search-CSCI576\\\\Queries'\n",
      "audios_folder='d:\\\\Final Project\\\\Video-Search-CSCI576\\\\Audios'\n",
      "\n",
      "imports complete\n"
     ]
    }
   ],
   "source": [
    "import os\n",
    "import acoustid\n",
    "from time import perf_counter\n",
    "from scenedetect import detect, AdaptiveDetector, split_video_ffmpeg\n",
    "\n",
    "\n",
    "base = os.getcwd()\n",
    "video_folder = os.path.join(base, \"Videos\")\n",
    "scene_folder = os.path.join(base, \"Scenes\")\n",
    "queries_folder = os.path.join(base, \"Queries\")\n",
    "audios_folder = os.path.join(base, \"Audios\")\n",
    "\n",
    "print(f'{video_folder=}\\n{scene_folder=}\\n{queries_folder=}\\n{audios_folder=}\\n')\n",
    "\n",
    "print('imports complete')"
   ]
  },
  {
   "cell_type": "markdown",
   "metadata": {},
   "source": [
    "### Scene Generation"
   ]
  },
  {
   "cell_type": "code",
   "execution_count": 31,
   "metadata": {},
   "outputs": [
    {
     "name": "stdout",
     "output_type": "stream",
     "text": [
      " videos to be processed : 12\n",
      "\n",
      " scenes : 3\n",
      "(00:00:00.000 [frame=0, fps=30.000], 00:00:04.500 [frame=135, fps=30.000]) <class 'scenedetect.frame_timecode.FrameTimecode'> <class 'tuple'>\n",
      " video11_1.mp4 : 0.64\n",
      "\n",
      " total processing time : 0.64\n"
     ]
    }
   ],
   "source": [
    "\n",
    "# raise RuntimeError('why run this again?')\n",
    "video_paths = []\n",
    "\n",
    "for base, _, files in os.walk(queries_folder):\n",
    "    for f in files:\n",
    "        if f.endswith('mp4'):\n",
    "            video_paths.append(os.path.join(base, f))\n",
    "\n",
    "\n",
    "print(f' videos to be processed : {len(video_paths)}\\n')\n",
    "\n",
    "main_start = perf_counter()\n",
    "for video_path in video_paths[1:2]:\n",
    "    start = perf_counter()\n",
    "    video = os.path.basename(video_path)\n",
    "    scene_path = os.path.join(scene_folder, video.split('.')[0])\n",
    "    scene_list = detect(video_path, AdaptiveDetector())\n",
    "    print(f' scenes : {len(scene_list)}')\n",
    "    # split_video_ffmpeg(video_path, scene_list,'$VIDEO_NAME - Scene $SCENE_NUMBER.mp4')\n",
    "    print(scene_list[0], type(scene_list[0][0]), type(scene_list[0]))\n",
    "    end = perf_counter()\n",
    "    print(f' {video} : {(end-start):.2f}\\n')\n",
    "main_end = perf_counter()\n",
    "print(f' total processing time : {main_end-main_start:.2f}')\n",
    "\n",
    "# took 30 minutes but it worked\n",
    "    "
   ]
  },
  {
   "cell_type": "code",
   "execution_count": 33,
   "metadata": {},
   "outputs": [],
   "source": [
    "import scenedetect as s\n",
    "import typing"
   ]
  },
  {
   "cell_type": "code",
   "execution_count": 34,
   "metadata": {},
   "outputs": [
    {
     "ename": "TypeError",
     "evalue": "Type Tuple cannot be instantiated; use tuple() instead",
     "output_type": "error",
     "traceback": [
      "\u001b[1;31m---------------------------------------------------------------------------\u001b[0m",
      "\u001b[1;31mTypeError\u001b[0m                                 Traceback (most recent call last)",
      "\u001b[1;32md:\\Final Project\\Video-Search-CSCI576\\scene_generation.ipynb Cell 6\u001b[0m line \u001b[0;36m1\n\u001b[1;32m----> <a href='vscode-notebook-cell:/d%3A/Final%20Project/Video-Search-CSCI576/scene_generation.ipynb#W5sZmlsZQ%3D%3D?line=0'>1</a>\u001b[0m s\u001b[39m.\u001b[39;49mvideo_splitter\u001b[39m.\u001b[39;49mTimecodePair()\n",
      "File \u001b[1;32mc:\\Users\\rajat\\anaconda3\\envs\\mm_final\\Lib\\typing.py:1131\u001b[0m, in \u001b[0;36m_BaseGenericAlias.__call__\u001b[1;34m(self, *args, **kwargs)\u001b[0m\n\u001b[0;32m   1129\u001b[0m \u001b[39mdef\u001b[39;00m \u001b[39m__call__\u001b[39m(\u001b[39mself\u001b[39m, \u001b[39m*\u001b[39margs, \u001b[39m*\u001b[39m\u001b[39m*\u001b[39mkwargs):\n\u001b[0;32m   1130\u001b[0m     \u001b[39mif\u001b[39;00m \u001b[39mnot\u001b[39;00m \u001b[39mself\u001b[39m\u001b[39m.\u001b[39m_inst:\n\u001b[1;32m-> 1131\u001b[0m         \u001b[39mraise\u001b[39;00m \u001b[39mTypeError\u001b[39;00m(\u001b[39mf\u001b[39m\u001b[39m\"\u001b[39m\u001b[39mType \u001b[39m\u001b[39m{\u001b[39;00m\u001b[39mself\u001b[39m\u001b[39m.\u001b[39m_name\u001b[39m}\u001b[39;00m\u001b[39m cannot be instantiated; \u001b[39m\u001b[39m\"\u001b[39m\n\u001b[0;32m   1132\u001b[0m                         \u001b[39mf\u001b[39m\u001b[39m\"\u001b[39m\u001b[39muse \u001b[39m\u001b[39m{\u001b[39;00m\u001b[39mself\u001b[39m\u001b[39m.\u001b[39m__origin__\u001b[39m.\u001b[39m\u001b[39m__name__\u001b[39m\u001b[39m}\u001b[39;00m\u001b[39m() instead\u001b[39m\u001b[39m\"\u001b[39m)\n\u001b[0;32m   1133\u001b[0m     result \u001b[39m=\u001b[39m \u001b[39mself\u001b[39m\u001b[39m.\u001b[39m__origin__(\u001b[39m*\u001b[39margs, \u001b[39m*\u001b[39m\u001b[39m*\u001b[39mkwargs)\n\u001b[0;32m   1134\u001b[0m     \u001b[39mtry\u001b[39;00m:\n",
      "\u001b[1;31mTypeError\u001b[0m: Type Tuple cannot be instantiated; use tuple() instead"
     ]
    }
   ],
   "source": [
    "s.video_splitter.TimecodePair()"
   ]
  },
  {
   "cell_type": "code",
   "execution_count": 38,
   "metadata": {},
   "outputs": [
    {
     "data": {
      "text/plain": [
       "scenedetect.frame_timecode.FrameTimecode"
      ]
     },
     "execution_count": 38,
     "metadata": {},
     "output_type": "execute_result"
    }
   ],
   "source": [
    "x = s.FrameTimecode(23.00,30)\n",
    "type(x)\n",
    "# s.FrameTimecode(\"seconds as a float\", \"frame per second as integer\")\n",
    "y = tuple([x,x])\n",
    "type(y)\n",
    "# x.frame_num\n",
    "type(x)"
   ]
  }
 ],
 "metadata": {
  "kernelspec": {
   "display_name": "Python 3",
   "language": "python",
   "name": "python3"
  },
  "language_info": {
   "codemirror_mode": {
    "name": "ipython",
    "version": 3
   },
   "file_extension": ".py",
   "mimetype": "text/x-python",
   "name": "python",
   "nbconvert_exporter": "python",
   "pygments_lexer": "ipython3",
   "version": "3.12.0"
  }
 },
 "nbformat": 4,
 "nbformat_minor": 2
}
