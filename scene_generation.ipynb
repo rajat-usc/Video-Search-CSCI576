{
 "cells": [
  {
   "cell_type": "markdown",
   "metadata": {},
   "source": [
    "### Setup"
   ]
  },
  {
   "cell_type": "code",
   "execution_count": 1,
   "metadata": {},
   "outputs": [
    {
     "name": "stdout",
     "output_type": "stream",
     "text": [
      "video_folder='d:\\\\Final Project\\\\Video-Search-CSCI576\\\\Videos'\n",
      "scene_folder='d:\\\\Final Project\\\\Video-Search-CSCI576\\\\Scenes'\n",
      "queries_folder='d:\\\\Final Project\\\\Video-Search-CSCI576\\\\Queries'\n",
      "audios_folder='d:\\\\Final Project\\\\Video-Search-CSCI576\\\\Audios'\n",
      "\n",
      "imports complete\n"
     ]
    }
   ],
   "source": [
    "import os\n",
    "import acoustid\n",
    "from time import perf_counter\n",
    "from scenedetect import detect, AdaptiveDetector, split_video_ffmpeg\n",
    "\n",
    "\n",
    "base = os.getcwd()\n",
    "video_folder = os.path.join(base, \"Videos\")\n",
    "scene_folder = os.path.join(base, \"Scenes\")\n",
    "queries_folder = os.path.join(base, \"Queries\")\n",
    "audios_folder = os.path.join(base, \"Audios\")\n",
    "\n",
    "print(f'{video_folder=}\\n{scene_folder=}\\n{queries_folder=}\\n{audios_folder=}\\n')\n",
    "\n",
    "print('imports complete')"
   ]
  },
  {
   "cell_type": "markdown",
   "metadata": {},
   "source": [
    "### Scene Generation"
   ]
  },
  {
   "cell_type": "code",
   "execution_count": 31,
   "metadata": {},
   "outputs": [
    {
     "name": "stdout",
     "output_type": "stream",
     "text": [
      " videos to be processed : 12\n",
      "\n",
      " scenes : 3\n",
      "(00:00:00.000 [frame=0, fps=30.000], 00:00:04.500 [frame=135, fps=30.000]) <class 'scenedetect.frame_timecode.FrameTimecode'> <class 'tuple'>\n",
      " video11_1.mp4 : 0.64\n",
      "\n",
      " total processing time : 0.64\n"
     ]
    }
   ],
   "source": [
    "\n",
    "# raise RuntimeError('why run this again?')\n",
    "video_paths = []\n",
    "\n",
    "for base, _, files in os.walk(queries_folder):\n",
    "    for f in files:\n",
    "        if f.endswith('mp4'):\n",
    "            video_paths.append(os.path.join(base, f))\n",
    "\n",
    "\n",
    "print(f' videos to be processed : {len(video_paths)}\\n')\n",
    "\n",
    "main_start = perf_counter()\n",
    "for video_path in video_paths[1:2]:\n",
    "    start = perf_counter()\n",
    "    video = os.path.basename(video_path)\n",
    "    scene_path = os.path.join(scene_folder, video.split('.')[0])\n",
    "    scene_list = detect(video_path, AdaptiveDetector())\n",
    "    print(f' scenes : {len(scene_list)}')\n",
    "    # split_video_ffmpeg(video_path, scene_list,'$VIDEO_NAME - Scene $SCENE_NUMBER.mp4')\n",
    "    print(scene_list[0], type(scene_list[0][0]), type(scene_list[0]))\n",
    "    end = perf_counter()\n",
    "    print(f' {video} : {(end-start):.2f}\\n')\n",
    "main_end = perf_counter()\n",
    "print(f' total processing time : {main_end-main_start:.2f}')\n",
    "\n",
    "# took 30 minutes but it worked\n",
    "    "
   ]
  },
  {
   "cell_type": "code",
   "execution_count": 24,
   "metadata": {},
   "outputs": [],
   "source": [
    "import scenedetect as s\n",
    "import typing"
   ]
  },
  {
   "cell_type": "code",
   "execution_count": 10,
   "metadata": {},
   "outputs": [
    {
     "data": {
      "text/plain": [
       "typing.Tuple[scenedetect.frame_timecode.FrameTimecode, scenedetect.frame_timecode.FrameTimecode]"
      ]
     },
     "execution_count": 10,
     "metadata": {},
     "output_type": "execute_result"
    }
   ],
   "source": [
    "s.video_splitter.TimecodePair()"
   ]
  },
  {
   "cell_type": "code",
   "execution_count": 32,
   "metadata": {},
   "outputs": [
    {
     "data": {
      "text/plain": [
       "(00:00:23.000 [frame=690, fps=30.000], 00:00:23.000 [frame=690, fps=30.000])"
      ]
     },
     "execution_count": 32,
     "metadata": {},
     "output_type": "execute_result"
    }
   ],
   "source": [
    "x = s.FrameTimecode(23.00,30)\n",
    "type(x)\n",
    "# s.FrameTimecode(\"seconds as a float\", \"frame per second as integer\")\n",
    "y = tuple([x,x])\n",
    "type(y)\n",
    "y"
   ]
  }
 ],
 "metadata": {
  "kernelspec": {
   "display_name": "Python 3",
   "language": "python",
   "name": "python3"
  },
  "language_info": {
   "codemirror_mode": {
    "name": "ipython",
    "version": 3
   },
   "file_extension": ".py",
   "mimetype": "text/x-python",
   "name": "python",
   "nbconvert_exporter": "python",
   "pygments_lexer": "ipython3",
   "version": "3.12.0"
  }
 },
 "nbformat": 4,
 "nbformat_minor": 2
}
