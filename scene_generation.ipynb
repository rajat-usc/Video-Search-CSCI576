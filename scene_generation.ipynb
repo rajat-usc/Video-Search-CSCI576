{
 "cells": [
  {
   "cell_type": "markdown",
   "metadata": {},
   "source": [
    "### Setup"
   ]
  },
  {
   "cell_type": "code",
   "execution_count": 1,
   "metadata": {},
   "outputs": [
    {
     "name": "stdout",
     "output_type": "stream",
     "text": [
      "video_folder='d:\\\\Final Project\\\\Video-Search-CSCI576\\\\Videos'\n",
      "scene_folder='d:\\\\Final Project\\\\Video-Search-CSCI576\\\\Scenes'\n",
      "queries_folder='d:\\\\Final Project\\\\Video-Search-CSCI576\\\\Queries'\n",
      "audios_folder='d:\\\\Final Project\\\\Video-Search-CSCI576\\\\Audios'\n",
      "\n",
      "imports complete\n"
     ]
    }
   ],
   "source": [
    "import os\n",
    "import acoustid\n",
    "from time import perf_counter\n",
    "from scenedetect import detect, AdaptiveDetector, split_video_ffmpeg\n",
    "\n",
    "\n",
    "base = os.getcwd()\n",
    "video_folder = os.path.join(base, \"Videos\")\n",
    "scene_folder = os.path.join(base, \"Scenes\")\n",
    "queries_folder = os.path.join(base, \"Queries\")\n",
    "audios_folder = os.path.join(base, \"Audios\")\n",
    "\n",
    "print(f'{video_folder=}\\n{scene_folder=}\\n{queries_folder=}\\n{audios_folder=}\\n')\n",
    "\n",
    "print('imports complete')"
   ]
  },
  {
   "cell_type": "markdown",
   "metadata": {},
   "source": [
    "### Scene Generation"
   ]
  },
  {
   "cell_type": "code",
   "execution_count": 4,
   "metadata": {},
   "outputs": [
    {
     "name": "stdout",
     "output_type": "stream",
     "text": [
      " videos to be processed : 12\n",
      "\n",
      " scenes : 0\n",
      " video10_1.mp4 : 0.79\n",
      "\n",
      " scenes : 3\n",
      " video11_1.mp4 : 2.01\n",
      "\n",
      " scenes : 0\n",
      " video1_1.mp4 : 1.51\n",
      "\n",
      " scenes : 4\n",
      " video2_1.mp4 : 2.38\n",
      "\n",
      " scenes : 5\n",
      " video3_1.mp4 : 2.45\n",
      "\n",
      " scenes : 3\n",
      " video4_1.mp4 : 1.94\n",
      "\n",
      " scenes : 2\n",
      " video5_1.mp4 : 1.86\n",
      "\n",
      " scenes : 2\n",
      " video6_1.mp4 : 1.84\n",
      "\n",
      " scenes : 0\n",
      " video6_2.mp4 : 0.79\n",
      "\n",
      " scenes : 2\n",
      " video7_1.mp4 : 1.91\n",
      "\n",
      " scenes : 2\n",
      " video8_1.mp4 : 1.91\n",
      "\n",
      " scenes : 2\n",
      " video9_1.mp4 : 1.97\n",
      "\n",
      " total processing time : 21.36\n"
     ]
    }
   ],
   "source": [
    "\n",
    "# raise RuntimeError('why run this again?')\n",
    "video_paths = []\n",
    "\n",
    "for base, _, files in os.walk(queries_folder):\n",
    "    for f in files:\n",
    "        if f.endswith('mp4'):\n",
    "            video_paths.append(os.path.join(base, f))\n",
    "\n",
    "\n",
    "print(f' videos to be processed : {len(video_paths)}\\n')\n",
    "\n",
    "main_start = perf_counter()\n",
    "for video_path in video_paths[:]:\n",
    "    start = perf_counter()\n",
    "    video = os.path.basename(video_path)\n",
    "    scene_path = os.path.join(scene_folder, video.split('.')[0])\n",
    "    scene_list = detect(video_path, AdaptiveDetector())\n",
    "    print(f' scenes : {len(scene_list)}')\n",
    "    split_video_ffmpeg(video_path, scene_list,'$VIDEO_NAME - Scene $SCENE_NUMBER.mp4')\n",
    "    end = perf_counter()\n",
    "    print(f' {video} : {(end-start):.2f}\\n')\n",
    "main_end = perf_counter()\n",
    "print(f' total processing time : {main_end-main_start:.2f}')\n",
    "\n",
    "# took 30 minutes but it worked\n",
    "    "
   ]
  },
  {
   "cell_type": "code",
   "execution_count": null,
   "metadata": {},
   "outputs": [],
   "source": []
  }
 ],
 "metadata": {
  "kernelspec": {
   "display_name": "Python 3",
   "language": "python",
   "name": "python3"
  },
  "language_info": {
   "codemirror_mode": {
    "name": "ipython",
    "version": 3
   },
   "file_extension": ".py",
   "mimetype": "text/x-python",
   "name": "python",
   "nbconvert_exporter": "python",
   "pygments_lexer": "ipython3",
   "version": "3.12.0"
  }
 },
 "nbformat": 4,
 "nbformat_minor": 2
}
