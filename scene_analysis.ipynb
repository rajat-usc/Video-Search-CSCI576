{
 "cells": [
  {
   "cell_type": "markdown",
   "metadata": {},
   "source": [
    "### Setup"
   ]
  },
  {
   "cell_type": "code",
   "execution_count": 6,
   "metadata": {},
   "outputs": [
    {
     "name": "stdout",
     "output_type": "stream",
     "text": [
      "video_folder='d:\\\\Final Project\\\\Video-Search-CSCI576\\\\Videos'\n",
      "scene_folder='d:\\\\Final Project\\\\Video-Search-CSCI576\\\\Scenes'\n",
      "queries_folder='d:\\\\Final Project\\\\Video-Search-CSCI576\\\\Queries'\n",
      "audios_folder='d:\\\\Final Project\\\\Video-Search-CSCI576\\\\Audios'\n",
      "\n",
      "imports complete\n"
     ]
    }
   ],
   "source": [
    "import os\n",
    "import acoustid\n",
    "from time import perf_counter\n",
    "from scenedetect import detect, AdaptiveDetector, split_video_ffmpeg\n",
    "import subprocess\n",
    "\n",
    "\n",
    "base = os.getcwd()\n",
    "video_folder = os.path.join(base, \"Videos\")\n",
    "scene_folder = os.path.join(base, \"Scenes\")\n",
    "queries_folder = os.path.join(base, \"Queries\")\n",
    "audios_folder = os.path.join(base, \"Audios\")\n",
    "\n",
    "print(f'{video_folder=}\\n{scene_folder=}\\n{queries_folder=}\\n{audios_folder=}\\n')\n",
    "\n",
    "print('imports complete')"
   ]
  },
  {
   "cell_type": "markdown",
   "metadata": {},
   "source": [
    "### Audio Extraction"
   ]
  },
  {
   "cell_type": "code",
   "execution_count": 3,
   "metadata": {},
   "outputs": [],
   "source": [
    "\n",
    "def convert_video_to_audio_ffmpeg(video_file, output_ext=\"mp3\"):\n",
    "    \"\"\"Converts video to audio directly using `ffmpeg` command\n",
    "    with the help of subprocess module\"\"\"\n",
    "    filename, ext = os.path.splitext(video_file)\n",
    "    subprocess.call([\"ffmpeg\", \"-y\", \"-i\", video_file, f\"{filename}.{output_ext}\"], \n",
    "                    stdout=subprocess.DEVNULL,\n",
    "                    stderr=subprocess.STDOUT)"
   ]
  },
  {
   "cell_type": "code",
   "execution_count": 7,
   "metadata": {},
   "outputs": [],
   "source": [
    "for f in os.listdir('.'):\n",
    "    if f.endswith('.mp4'):\n",
    "        convert_video_to_audio_ffmpeg(f, \"wav\")"
   ]
  },
  {
   "cell_type": "code",
   "execution_count": null,
   "metadata": {},
   "outputs": [],
   "source": []
  }
 ],
 "metadata": {
  "kernelspec": {
   "display_name": "mm_final",
   "language": "python",
   "name": "python3"
  },
  "language_info": {
   "codemirror_mode": {
    "name": "ipython",
    "version": 3
   },
   "file_extension": ".py",
   "mimetype": "text/x-python",
   "name": "python",
   "nbconvert_exporter": "python",
   "pygments_lexer": "ipython3",
   "version": "3.12.0"
  }
 },
 "nbformat": 4,
 "nbformat_minor": 2
}
