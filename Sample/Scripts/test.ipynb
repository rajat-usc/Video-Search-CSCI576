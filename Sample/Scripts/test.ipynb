{
 "cells": [
  {
   "cell_type": "code",
   "execution_count": 18,
   "metadata": {},
   "outputs": [],
   "source": [
    "import constants\n",
    "import soundfile as sf\n",
    "from audio_matching import AudioFile\n",
    "import os\n",
    "import numpy as np"
   ]
  },
  {
   "cell_type": "code",
   "execution_count": 7,
   "metadata": {},
   "outputs": [
    {
     "name": "stdout",
     "output_type": "stream",
     "text": [
      " audio size : 882688\n",
      " fs : 44100\n",
      " duration : 20.02\n",
      "\n",
      " audio size : 25450496\n",
      " fs : 44100\n",
      " duration : 577.11\n",
      "\n"
     ]
    }
   ],
   "source": [
    "query_path = os.path.join(constants.queries_folder, \"video11 - 8130.wav\")\n",
    "# video_path = os.path.join(constants.queries_folder, \"video1 - 5550.wav\")\n",
    "video_path = os.path.join(constants.video_folder, \"video11.wav\")\n",
    "\n",
    "# Audio objects\n",
    "query = AudioFile('d:\\\\Final Project\\\\Video-Search-CSCI576\\\\Sample\\\\Query\\\\video11 - 8130.wav')\n",
    "video = AudioFile('d:\\\\Final Project\\\\Video-Search-CSCI576\\\\Sample\\\\Video\\\\video11.wav')\n",
    "\n",
    "print(query)\n",
    "print(video)"
   ]
  },
  {
   "cell_type": "code",
   "execution_count": null,
   "metadata": {},
   "outputs": [],
   "source": [
    "def l2(a: np.ndarray, b: np.ndarray) -> float:\n",
    "    return 0.0"
   ]
  },
  {
   "cell_type": "code",
   "execution_count": 11,
   "metadata": {},
   "outputs": [
    {
     "name": "stdout",
     "output_type": "stream",
     "text": [
      "(882688, 2)\n",
      "(882688, 2)\n"
     ]
    }
   ],
   "source": [
    "window = query.length\n",
    "x = video.audio[0:window]\n",
    "y = query.audio\n",
    "print(x.shape)\n",
    "print(y.shape)"
   ]
  },
  {
   "cell_type": "code",
   "execution_count": 24,
   "metadata": {},
   "outputs": [
    {
     "data": {
      "text/plain": [
       "98794.427462372"
      ]
     },
     "execution_count": 24,
     "metadata": {},
     "output_type": "execute_result"
    }
   ],
   "source": [
    "result = (x-y)**2\n",
    "result = np.sum(result, axis=1)\n",
    "np.sum(result)\n"
   ]
  }
 ],
 "metadata": {
  "kernelspec": {
   "display_name": "mm_final",
   "language": "python",
   "name": "python3"
  },
  "language_info": {
   "codemirror_mode": {
    "name": "ipython",
    "version": 3
   },
   "file_extension": ".py",
   "mimetype": "text/x-python",
   "name": "python",
   "nbconvert_exporter": "python",
   "pygments_lexer": "ipython3",
   "version": "3.12.0"
  }
 },
 "nbformat": 4,
 "nbformat_minor": 2
}
