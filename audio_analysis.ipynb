{
 "cells": [
  {
   "cell_type": "markdown",
   "metadata": {},
   "source": [
    "### Imports"
   ]
  },
  {
   "cell_type": "code",
   "execution_count": 2,
   "metadata": {},
   "outputs": [
    {
     "name": "stdout",
     "output_type": "stream",
     "text": [
      "done\n"
     ]
    }
   ],
   "source": [
    "import os\n",
    "import acoustid\n",
    "from time import perf_counter\n",
    "from scenedetect import detect, AdaptiveDetector, split_video_ffmpeg\n",
    "import subprocess\n",
    "import chromaprint\n",
    "import hashlib\n",
    "import sqlite3\n",
    "import constants\n",
    "import audiodiff\n",
    "import soundfile as sf\n",
    "import numpy as np\n",
    "\n",
    "print('done')"
   ]
  },
  {
   "cell_type": "code",
   "execution_count": 4,
   "metadata": {},
   "outputs": [],
   "source": [
    "def read_audio(file_path: str):\n",
    "    x, fs = sf.read(file_path)\n",
    "    print(f' audio read : {file_path}')\n",
    "    return (x,fs)"
   ]
  },
  {
   "cell_type": "code",
   "execution_count": 34,
   "metadata": {},
   "outputs": [
    {
     "name": "stdout",
     "output_type": "stream",
     "text": [
      " audio read : d:\\Final Project\\Video-Search-CSCI576\\Queries\\audios\\video4_1 - Scene 001.wav\n"
     ]
    }
   ],
   "source": [
    "query_audio_path = os.path.join(constants.queries_folder, \"audios\", \"video4_1 - Scene 001.wav\")\n",
    "query_audio, query_fs = read_audio(query_audio_path)"
   ]
  },
  {
   "cell_type": "code",
   "execution_count": 35,
   "metadata": {},
   "outputs": [
    {
     "name": "stdout",
     "output_type": "stream",
     "text": [
      " audio read : d:\\Final Project\\Video-Search-CSCI576\\Scenes\\video4\\video4 - Scene 051.wav\n"
     ]
    }
   ],
   "source": [
    "full_audio_path = os.path.join(constants.scene_folder, \"video4\", \"video4 - Scene 051.wav\")\n",
    "full_audio, full_fs = read_audio(full_audio_path)"
   ]
  },
  {
   "cell_type": "code",
   "execution_count": 36,
   "metadata": {},
   "outputs": [
    {
     "name": "stdout",
     "output_type": "stream",
     "text": [
      " query : (385333, 2)\n",
      " full : (384000, 2)\n"
     ]
    }
   ],
   "source": [
    "print(f' query : {query_audio.shape}\\n full : {full_audio.shape}')"
   ]
  },
  {
   "cell_type": "code",
   "execution_count": 14,
   "metadata": {},
   "outputs": [
    {
     "data": {
      "text/plain": [
       "array([[ 0.00012207,  0.00012207],\n",
       "       [ 0.00042725,  0.00042725],\n",
       "       [ 0.00073242,  0.00073242],\n",
       "       ...,\n",
       "       [-0.00405884, -0.00405884],\n",
       "       [-0.01065063, -0.01065063],\n",
       "       [ 0.02389526,  0.02389526]])"
      ]
     },
     "execution_count": 14,
     "metadata": {},
     "output_type": "execute_result"
    }
   ],
   "source": [
    "query_audio"
   ]
  },
  {
   "cell_type": "code",
   "execution_count": 27,
   "metadata": {},
   "outputs": [
    {
     "name": "stdout",
     "output_type": "stream",
     "text": [
      "(197,)\n"
     ]
    }
   ],
   "source": [
    "window = query_audio.shape[0]\n",
    "result = []\n",
    "x = 0\n",
    "ratio = 0.25\n",
    "step = int(window * ratio)\n",
    "\n",
    "while x < (full_audio.shape[0] - window-1):\n",
    "    search_window = full_audio[x:x + window]\n",
    "    distance = np.linalg.norm(query_audio-search_window)\n",
    "    result.append(distance)\n",
    "    x += step\n",
    "\n",
    "\n",
    "result = np.array(result)\n",
    "print(result.shape)"
   ]
  },
  {
   "cell_type": "code",
   "execution_count": 28,
   "metadata": {},
   "outputs": [
    {
     "name": "stdout",
     "output_type": "stream",
     "text": [
      "196 16.41830600538599\n"
     ]
    },
    {
     "data": {
      "text/plain": [
       "(16.0, 19.626666666666665)"
      ]
     },
     "execution_count": 28,
     "metadata": {},
     "output_type": "execute_result"
    }
   ],
   "source": [
    "window_number = np.argmin(result)\n",
    "print(window_number, np.min(result))\n",
    "\n",
    "timestamp = (((window_number * step)/full_fs)//60, ((window_number * step)/full_fs)%60)\n",
    "timestamp\n"
   ]
  },
  {
   "cell_type": "code",
   "execution_count": 30,
   "metadata": {},
   "outputs": [
    {
     "data": {
      "text/plain": [
       "array([ 16.41830601,  16.41833347,  16.44037651,  16.45601286,\n",
       "        16.45730685,  16.45890925,  16.54785131,  16.57986211,\n",
       "        16.77033182,  16.99217482,  17.09694525,  17.2160897 ,\n",
       "        17.27870911,  17.31818173,  17.55559042,  18.00760933,\n",
       "        18.24845284,  18.58538479,  18.60742265,  19.11038597,\n",
       "        19.26474654,  19.40639421,  19.90026024,  19.93736842,\n",
       "        20.04692115,  20.64673234,  20.8011795 ,  20.8977823 ,\n",
       "        20.94444699,  21.04955586,  21.2868358 ,  21.47586439,\n",
       "        21.76958395,  21.78460961,  22.35229711,  22.65187563,\n",
       "        22.70973752,  23.24562035,  23.39090824,  23.47713095,\n",
       "        23.50215687,  23.5145206 ,  25.78087323,  25.92672528,\n",
       "        26.54601112,  26.80343623,  26.93335791,  26.93902907,\n",
       "        27.12618766,  27.57528156,  27.7484823 ,  28.92084589,\n",
       "        29.27538204,  30.25852558,  30.68335038,  30.90939811,\n",
       "        31.56517357,  31.94917484,  32.04058672,  33.77920461,\n",
       "        34.33309979,  36.59584512,  37.15085576,  38.40658656,\n",
       "        39.02954653,  41.64584503,  42.51259237,  42.57657729,\n",
       "        42.60660892,  43.21341026,  43.88619968,  47.42324296,\n",
       "        48.54152413,  48.80741229,  48.86822242,  49.2218714 ,\n",
       "        49.46443726,  49.70860433,  51.05750191,  51.21275683,\n",
       "        51.92287879,  52.09770838,  52.73257214,  53.35452325,\n",
       "        54.50334293,  54.78701138,  57.65491604,  57.71510736,\n",
       "        58.0243981 ,  58.31521728,  58.45814136,  59.51237635,\n",
       "        60.05372819,  61.04492761,  61.50741081,  62.01964789,\n",
       "        62.34860078,  63.10321766,  63.52609205,  63.53324723,\n",
       "        63.5926688 ,  64.526291  ,  64.86356764,  64.9125574 ,\n",
       "        65.665936  ,  66.46219064,  67.25775205,  67.7957543 ,\n",
       "        68.31058899,  68.80920994,  68.86611344,  69.20803499,\n",
       "        70.4278642 ,  71.39390434,  71.48403816,  73.46711617,\n",
       "        73.83606776,  73.97593926,  74.80490389,  75.05293897,\n",
       "        75.08160965,  75.90946085,  76.10134552,  76.1399532 ,\n",
       "        76.16715965,  77.43860069,  77.93259463,  78.1961896 ,\n",
       "        80.02876982,  80.34475223,  81.00338739,  81.8309567 ,\n",
       "        82.17417183,  82.82623449,  83.25031322,  83.97394882,\n",
       "        84.90683296,  86.68351293,  88.50779002,  88.72358798,\n",
       "        88.85236951,  90.05705224,  90.58322783,  91.11723743,\n",
       "        91.31569597,  91.45376619,  92.37938685,  92.83957618,\n",
       "        93.00058425,  94.51753967,  95.32252415,  95.4096423 ,\n",
       "        96.36842134,  97.64893235,  97.80647186,  97.84918397,\n",
       "        98.16117865,  99.49302286,  99.63015312,  99.66166081,\n",
       "        99.80701303, 100.11053789, 103.18265544, 104.24901325,\n",
       "       104.4986625 , 106.18334639, 108.39522927, 109.69879938,\n",
       "       109.72875979, 114.08256811, 116.62491855, 117.83528844,\n",
       "       118.25061758, 118.81686757, 119.20337637, 120.10652486,\n",
       "       124.23986532, 126.16910356, 128.28368902, 131.65237855,\n",
       "       132.20263346, 140.50693413, 142.33460512, 144.53195274,\n",
       "       146.03843456, 152.19723428, 154.95056253, 155.66430312,\n",
       "       158.19147115, 158.47849186, 159.10633563, 160.58503154,\n",
       "       160.80169427, 162.79606616, 164.60459025, 168.70059387,\n",
       "       169.1267957 ])"
      ]
     },
     "execution_count": 30,
     "metadata": {},
     "output_type": "execute_result"
    }
   ],
   "source": [
    "result"
   ]
  },
  {
   "cell_type": "code",
   "execution_count": null,
   "metadata": {},
   "outputs": [],
   "source": []
  }
 ],
 "metadata": {
  "kernelspec": {
   "display_name": "mm_final",
   "language": "python",
   "name": "python3"
  },
  "language_info": {
   "codemirror_mode": {
    "name": "ipython",
    "version": 3
   },
   "file_extension": ".py",
   "mimetype": "text/x-python",
   "name": "python",
   "nbconvert_exporter": "python",
   "pygments_lexer": "ipython3",
   "version": "3.12.0"
  }
 },
 "nbformat": 4,
 "nbformat_minor": 2
}
