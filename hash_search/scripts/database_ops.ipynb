{
 "cells": [
  {
   "cell_type": "code",
   "execution_count": 20,
   "metadata": {},
   "outputs": [
    {
     "name": "stdout",
     "output_type": "stream",
     "text": [
      "imports complete\n"
     ]
    }
   ],
   "source": [
    "import os\n",
    "import acoustid\n",
    "from time import perf_counter\n",
    "from scenedetect import detect, AdaptiveDetector, split_video_ffmpeg\n",
    "import subprocess\n",
    "import chromaprint\n",
    "import hashlib\n",
    "import sqlite3\n",
    "import constants\n",
    "import importlib\n",
    "importlib.reload(constants)\n",
    "\n",
    "\n",
    "print('imports complete')"
   ]
  },
  {
   "cell_type": "markdown",
   "metadata": {},
   "source": [
    "### DB Connection"
   ]
  },
  {
   "cell_type": "code",
   "execution_count": 2,
   "metadata": {},
   "outputs": [],
   "source": [
    "def create_connection(db_file):\n",
    "    \"\"\" create a database connection to a SQLite database \"\"\"\n",
    "    conn = None\n",
    "    try:\n",
    "        conn = sqlite3.connect(db_file)\n",
    "    except sqlite3.Error as e:\n",
    "        print(e)\n",
    "    \n",
    "    return conn"
   ]
  },
  {
   "cell_type": "markdown",
   "metadata": {},
   "source": [
    "### SQL Commands"
   ]
  },
  {
   "cell_type": "code",
   "execution_count": 15,
   "metadata": {},
   "outputs": [],
   "source": [
    "def create_table(conn):\n",
    "    cursor = conn.cursor()\n",
    "    cursor.execute(constants.sql_create_framehash_table)\n",
    "    conn.commit()\n",
    "\n",
    "def insert_row(conn, data):\n",
    "    cursor = conn.cursor()\n",
    "    cursor.execute(constants.sql_insert_row, data)\n",
    "    conn.commit()\n",
    "    return cursor.lastrowid\n"
   ]
  },
  {
   "cell_type": "code",
   "execution_count": 16,
   "metadata": {},
   "outputs": [
    {
     "name": "stdout",
     "output_type": "stream",
     "text": [
      " connection established : hashtable.db\n"
     ]
    }
   ],
   "source": [
    "db_path = \"hashtable.db\"\n",
    "conn = create_connection(db_path)\n",
    "\n",
    "if conn is not None:\n",
    "    print(f' connection established : {db_path}')\n",
    "else:\n",
    "    print(' connection failed ')\n",
    "\n",
    "create_table(conn)\n",
    "# phash text NOT NULL , \n",
    "# sha256 text NOT NULL, \n",
    "# video_name text NOT NULL, \n",
    "# video_frame integer NOT NULL, \n",
    "# PRIMARY KEY (phash, sha256)"
   ]
  },
  {
   "cell_type": "code",
   "execution_count": 19,
   "metadata": {},
   "outputs": [
    {
     "name": "stdout",
     "output_type": "stream",
     "text": [
      "1\n"
     ]
    }
   ],
   "source": [
    "data = ('we','we','we',3)\n",
    "result = insert_row(conn, data)\n",
    "print(result)"
   ]
  },
  {
   "cell_type": "code",
   "execution_count": null,
   "metadata": {},
   "outputs": [],
   "source": []
  }
 ],
 "metadata": {
  "kernelspec": {
   "display_name": "mm_final",
   "language": "python",
   "name": "python3"
  },
  "language_info": {
   "codemirror_mode": {
    "name": "ipython",
    "version": 3
   },
   "file_extension": ".py",
   "mimetype": "text/x-python",
   "name": "python",
   "nbconvert_exporter": "python",
   "pygments_lexer": "ipython3",
   "version": "3.12.0"
  }
 },
 "nbformat": 4,
 "nbformat_minor": 2
}
